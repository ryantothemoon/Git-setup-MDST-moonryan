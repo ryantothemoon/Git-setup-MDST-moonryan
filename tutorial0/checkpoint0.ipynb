{
 "cells": [
  {
   "cell_type": "markdown",
   "metadata": {
    "colab_type": "text",
    "id": "0a8IYAJUshu1"
   },
   "source": [
    "# Checkpoint 0 "
   ]
  },
  {
   "cell_type": "markdown",
   "metadata": {},
   "source": [
    "These exercises are a mix of Python and Pandas practice. Most should be no more than a few lines of code! "
   ]
  },
  {
   "cell_type": "code",
   "execution_count": null,
   "metadata": {
    "colab": {},
    "colab_type": "code",
    "id": "Jo6wuTgkshu1"
   },
   "outputs": [],
   "source": [
    "# here is a Python list:\n",
    "\n",
    "a = [1, 2, 3, 4, 5, 6]\n"
   ]
  },
  {
   "cell_type": "code",
   "execution_count": null,
   "id": "779d96b1",
   "metadata": {},
   "outputs": [],
   "source": [
    "# get a list containing the last 3 elements of a\n",
    "# Yes, you can just type out [4, 5, 6] but we really want to see you demonstrate you know how to use list slicing in Python"
   ]
  },
  {
   "cell_type": "code",
   "execution_count": null,
   "id": "b6a54def",
   "metadata": {},
   "outputs": [],
   "source": [
    "# create a list of numbers from 1 to 20"
   ]
  },
  {
   "cell_type": "code",
   "execution_count": null,
   "id": "487873ac",
   "metadata": {},
   "outputs": [],
   "source": [
    "# now get a list with only the even numbers between 1 and 100\n",
    "# you may or may not make use of the list you made in the last cell"
   ]
  },
  {
   "cell_type": "code",
   "execution_count": null,
   "id": "3d4bb5dd",
   "metadata": {},
   "outputs": [],
   "source": [
    "# write a function that takes two numbers as arguments\n",
    "# and returns the first number divided by the second"
   ]
  },
  {
   "cell_type": "code",
   "execution_count": null,
   "id": "b93669fa",
   "metadata": {},
   "outputs": [],
   "source": [
    "# write a function that takes a string as input\n",
    "# and return that string in all caps"
   ]
  },
  {
   "cell_type": "code",
   "execution_count": null,
   "id": "f55df04e",
   "metadata": {},
   "outputs": [],
   "source": [
    "# fizzbuzz\n",
    "# you will need to use both iteration and control flow \n",
    "# go through all numbers from 1 to 30 in order\n",
    "# if the number is a multiple of 3, print fizz\n",
    "# if the number is a multiple of 5, print buzz\n",
    "# if the number is a multiple of 3 and 5, print fizzbuzz and NOTHING ELSE\n",
    "# if the number is neither a multiple of 3 nor a multiple of 5, print the number"
   ]
  },
  {
   "cell_type": "code",
   "execution_count": null,
   "id": "78aace0b",
   "metadata": {},
   "outputs": [],
   "source": [
    "# create a dictionary that reflects the following menu pricing (taken from Ahmo's)\n",
    "# Gyro: $9 \n",
    "# Burger: $9\n",
    "# Greek Salad: $8\n",
    "# Philly Steak: $10"
   ]
  },
  {
   "cell_type": "code",
   "execution_count": null,
   "metadata": {
    "colab": {},
    "colab_type": "code",
    "id": "WzCQ5HOJshvA"
   },
   "outputs": [],
   "source": [
    "# load in the \"starbucks.csv\" dataset\n",
    "# refer to how we read the cereal.csv dataset in the tutorial\n"
   ]
  },
  {
   "cell_type": "code",
   "execution_count": null,
   "id": "68210b5f",
   "metadata": {},
   "outputs": [],
   "source": [
    "# output the calories, sugars, and protein columns only of every 40th row. "
   ]
  },
  {
   "cell_type": "code",
   "execution_count": null,
   "id": "ac0f0c12",
   "metadata": {},
   "outputs": [],
   "source": [
    "# select all rows with more than and including 400 calories"
   ]
  },
  {
   "cell_type": "code",
   "execution_count": null,
   "id": "ee8f8241",
   "metadata": {},
   "outputs": [],
   "source": [
    "# select all rows whose vitamin c content is higher than the iron content"
   ]
  },
  {
   "cell_type": "code",
   "execution_count": null,
   "id": "d4de48bb",
   "metadata": {},
   "outputs": [],
   "source": [
    "# create a new column containing the caffeine per calories of each drink"
   ]
  },
  {
   "cell_type": "code",
   "execution_count": null,
   "metadata": {
    "colab": {},
    "colab_type": "code",
    "id": "rIoxaSxHshvB"
   },
   "outputs": [],
   "source": [
    "# what is the average calorie across all items?\n"
   ]
  },
  {
   "cell_type": "code",
   "execution_count": null,
   "metadata": {
    "colab": {},
    "colab_type": "code",
    "id": "ABX7i49FshvD"
   },
   "outputs": [],
   "source": [
    "# how many different categories of beverages are there?\n"
   ]
  },
  {
   "cell_type": "code",
   "execution_count": null,
   "metadata": {
    "colab": {},
    "colab_type": "code",
    "id": "P9QatZAzshvE"
   },
   "outputs": [],
   "source": [
    "# what is the average # calories for each beverage category?\n"
   ]
  }
 ],
 "metadata": {
  "kernelspec": {
   "display_name": "Python 3.9.0 64-bit",
   "language": "python",
   "name": "python3"
  },
  "language_info": {
   "codemirror_mode": {
    "name": "ipython",
    "version": 3
   },
   "file_extension": ".py",
   "mimetype": "text/x-python",
   "name": "python",
   "nbconvert_exporter": "python",
   "pygments_lexer": "ipython3",
   "version": "3.9.0"
  },
  "vscode": {
   "interpreter": {
    "hash": "6cf8df3ff69f85f626faf55c10df6fe2cb9d1236b4dc73844ee4dc01369c2c99"
   }
  }
 },
 "nbformat": 4,
 "nbformat_minor": 5
}
Checkpoint 0
These exercises are a mix of Python and Pandas practice. Most should be no more than a few lines of code!

# here is a Python list:

a = [1, 2, 3, 4, 5, 6]
# get a list containing the last 3 elements of a
# Yes, you can just type out [4, 5, 6] but we really want to see you demonstrate you know how to use list slicing in Python
b = a[3:6]
print(b)
[4, 5, 6]
# create a list of numbers from 1 to 20
lst = [1, 2, 3, 4, 5, 6, 7, 8, 9, 10, 11, 12, 13, 14, 15, 16, 17, 18, 19, 20]
# now get a list with only the even numbers between 1 and 100
# you may or may not make use of the list you made in the last cell
lstEven = []
for x in range (2, 100, 2):
    lstEven.append(x)
else:
    print(lstEven)
[2, 4, 6, 8, 10, 12, 14, 16, 18, 20, 22, 24, 26, 28, 30, 32, 34, 36, 38, 40, 42, 44, 46, 48, 50, 52, 54, 56, 58, 60, 62, 64, 66, 68, 70, 72, 74, 76, 78, 80, 82, 84, 86, 88, 90, 92, 94, 96, 98]
# write a function that takes two numbers as arguments
# and returns the first number divided by the second
def divFunc():
    dividend = int(input("Enter dividend: "))
    divisor = int(input("Enter divisor: "))
    return(dividend / divisor)

divFunc()
5.0
# write a function that takes a string as input
# and return that string in all caps
def capsFunc():
    str = input("Enter string: ")
    return(str.upper())

capsFunc()
'ASDKJLF'
# fizzbuzz
# you will need to use both iteration and control flow 
# go through all numbers from 1 to 30 in order
# if the number is a multiple of 3, print fizz
# if the number is a multiple of 5, print buzz
# if the number is a multiple of 3 and 5, print fizzbuzz and NOTHING ELSE
# if the number is neither a multiple of 3 nor a multiple of 5, print the number
for x in range(1, 31):
    if x % 3 == 0:
        if x % 5 == 0:
            print("fizzbuzz")
        else:
            print("fizz")
    elif x % 5 == 0:
        print("buzz")
    else:
        print(x)
1
2
fizz
4
buzz
fizz
7
8
fizz
buzz
11
fizz
13
14
fizzbuzz
16
17
fizz
19
buzz
fizz
22
23
fizz
buzz
26
fizz
28
29
fizzbuzz
# create a dictionary that reflects the following menu pricing (taken from Ahmo's)
# Gyro: $9 
# Burger: $9
# Greek Salad: $8
# Philly Steak: $10
ahmoDict = {
    "Gyro": "$9",
    "Burger": "$9",
    "Greek Salad": "$8",
    "Philly Steak": "$10"
}
print(ahmoDict)
{'Gyro': '$9', 'Burger': '$9', 'Greek Salad': '$8', 'Philly Steak': '$10'}
# load in the "starbucks.csv" dataset
# refer to how we read the cereal.csv dataset in the tutorial
import pandas as pd
starDS = pd.read_csv('../data/starbucks.csv')
# output the calories, sugars, and protein columns only of every 40th row. 
starDS.iloc[::40]
beverage_category	beverage	beverage_prep	calories	total fat	trans fat	saturated fat	sodium	total carbohydrates	cholesterol	dietary fibre	sugars	protein	vitamin a	vitamin c	calcium	iron	caffeine
0	coffee	brewed coffee	Short	3	0.1	0.0	0.0	0	5	0	0	0	0.3	0	0	0	0.0	175.0
40	classic espresso drinks	caff americano	Short	5	0.0	0.0	0.0	0	5	1	0	0	0.4	0	0	0	0.0	75.0
80	signature espresso drinks	white chocolate mocha (without whipped cream)	Grande Nonfat Milk	350	6.0	4.5	0.0	10	240	61	0	58	15.0	20	2	45	2.0	150.0
120	tazo tea drinks	tazo green tea latte	Soymilk	140	3.0	0.4	0.0	0	70	22	1	20	6.0	8	4	20	10.0	25.0
160	shaken iced beverages	iced brewed coffee (with milk classic syrup)	Grande Nonfat Milk	110	0.1	0.0	0.0	0	30	24	0	24	2.0	4	0	8	2.0	90.0
200	frappuccino blended coffee	caramel (without whipped cream)	Whole Milk	200	2.5	1.5	0.1	10	160	42	0	41	3.0	4	0	8	0.0	70.0
240	frappuccino blended crme	vanilla bean (without whipped cream)	Soymilk	180	1.5	0.2	0.0	0	160	37	1	35	3.0	4	0	10	6.0	0.0
# select all rows with more than and including 400 calories
starDS[starDS["calories"] > 400]
beverage_category	beverage	beverage_prep	calories	total fat	trans fat	saturated fat	sodium	total carbohydrates	cholesterol	dietary fibre	sugars	protein	vitamin a	vitamin c	calcium	iron	caffeine
83	signature espresso drinks	white chocolate mocha (without whipped cream)	Venti Nonfat Milk	450	7.0	6.0	0.0	10	310	78	0	74	19.0	25	2	60	2.0	150.0
84	signature espresso drinks	white chocolate mocha (without whipped cream)	2% Milk	510	15.0	9.0	0.2	35	330	77	0	74	19.0	20	4	60	2.0	150.0
85	signature espresso drinks	white chocolate mocha (without whipped cream)	Soymilk	460	13.0	6.0	0.0	5	290	70	1	64	16.0	15	2	60	20.0	150.0
128	tazo tea drinks	tazo green tea latte	2% Milk	450	10.0	5.0	0.3	40	230	72	2	71	17.0	25	20	50	6.0	110.0
214	frappuccino blended coffee	java chip (without whipped cream)	Venti Nonfat Milk	420	5.0	4.0	0.0	5	340	90	2	84	7.0	10	0	20	35.0	145.0
215	frappuccino blended coffee	java chip (without whipped cream)	Whole Milk	460	10.0	7.0	0.2	15	340	90	2	84	7.0	6	0	15	35.0	145.0
216	frappuccino blended coffee	java chip (without whipped cream)	Soymilk	430	8.0	4.5	0.0	0	330	88	3	80	6.0	6	0	20	40.0	145.0
# select all rows whose vitamin c content is higher than the iron content
starDS[starDS["vitamin c"] > starDS["iron"]]
beverage_category	beverage	beverage_prep	calories	total fat	trans fat	saturated fat	sodium	total carbohydrates	cholesterol	dietary fibre	sugars	protein	vitamin a	vitamin c	calcium	iron	caffeine
11	classic espresso drinks	caff latte	2% Milk	190	7.0	3.5	0.2	30	170	19	0	17	12.0	20	2	40	0.0	150.000000
14	classic espresso drinks	caff latte	2% Milk	240	9.0	4.5	0.3	35	220	24	0	22	16.0	25	2	50	0.0	150.000000
35	classic espresso drinks	vanilla latte (or other flavoured latte)	2% Milk	250	6.0	3.5	0.2	25	150	37	0	35	12.0	20	2	35	0.0	150.000000
38	classic espresso drinks	vanilla latte (or other flavoured latte)	2% Milk	320	9.0	4.5	0.3	35	200	46	0	44	15.0	25	2	45	0.0	150.000000
69	signature espresso drinks	caramel macchiato	2% Milk	240	7.0	3.5	0.2	25	150	34	0	32	10.0	15	2	30	0.0	150.000000
72	signature espresso drinks	caramel macchiato	2% Milk	300	8.0	4.5	0.2	35	180	43	0	40	13.0	20	2	40	0.0	150.000000
75	signature espresso drinks	white chocolate mocha (without whipped cream)	2% Milk	200	6.0	3.5	0.1	15	125	31	0	29	7.0	8	2	25	0.0	75.000000
77	signature espresso drinks	white chocolate mocha (without whipped cream)	Tall Nonfat Milk	270	4.5	3.5	0.0	5	190	47	0	45	12.0	15	2	35	0.0	75.000000
78	signature espresso drinks	white chocolate mocha (without whipped cream)	2% Milk	310	9.0	6.0	0.1	20	200	46	0	44	11.0	15	2	35	0.0	75.000000
81	signature espresso drinks	white chocolate mocha (without whipped cream)	2% Milk	400	11.0	7.0	0.2	25	250	61	0	58	15.0	15	2	45	0.0	150.000000
84	signature espresso drinks	white chocolate mocha (without whipped cream)	2% Milk	510	15.0	9.0	0.2	35	330	77	0	74	19.0	20	4	60	2.0	150.000000
118	tazo tea drinks	tazo green tea latte	Short Nonfat Milk	130	0.2	0.1	0.0	5	85	26	0	25	7.0	10	4	20	2.0	25.000000
119	tazo tea drinks	tazo green tea latte	2% Milk	170	4.0	2.0	0.1	15	95	26	0	25	7.0	10	6	20	2.0	25.000000
121	tazo tea drinks	tazo green tea latte	Tall Nonfat Milk	210	0.4	0.2	0.0	5	125	42	1	41	11.0	20	10	35	4.0	55.000000
122	tazo tea drinks	tazo green tea latte	2% Milk	260	6.0	3.0	0.2	25	140	41	1	40	10.0	15	10	35	4.0	55.000000
124	tazo tea drinks	tazo green tea latte	Grande Nonfat Milk	290	0.5	0.2	0.0	10	160	57	1	56	14.0	25	15	45	4.0	80.000000
125	tazo tea drinks	tazo green tea latte	2% Milk	350	8.0	4.0	0.2	30	180	57	1	55	14.0	20	15	45	4.0	80.000000
127	tazo tea drinks	tazo green tea latte	Venti Nonfat Milk	370	0.5	0.3	0.0	10	200	73	2	71	18.0	30	20	60	6.0	110.000000
128	tazo tea drinks	tazo green tea latte	2% Milk	450	10.0	5.0	0.3	40	230	72	2	71	17.0	25	20	50	6.0	110.000000
169	shaken iced beverages	shaken iced tazo tea lemonade (with classic sy...	Tall	100	0.0	0.0	0.0	0	0	25	0	24	0.1	0	10	0	0.0	89.520548
170	shaken iced beverages	shaken iced tazo tea lemonade (with classic sy...	Grande	130	0.0	0.0	0.0	0	0	33	0	33	0.1	0	15	0	0.0	89.520548
171	shaken iced beverages	shaken iced tazo tea lemonade (with classic sy...	Venti	190	0.0	0.0	0.0	0	0	49	0	49	0.1	0	20	0	0.0	89.520548
172	smoothies	banana chocolate smoothie	Grande Nonfat Milk	280	2.5	1.5	0.0	5	150	53	7	34	20.0	10	15	20	0.0	89.520548
175	smoothies	orange mango banana smoothie	Grande Nonfat Milk	260	1.0	0.3	0.0	5	120	54	6	37	16.0	50	80	10	30.0	15.000000
176	smoothies	orange mango banana smoothie	2% Milk	270	1.5	0.5	0.0	5	125	53	6	37	16.0	50	80	10	6.0	0.000000
177	smoothies	orange mango banana smoothie	Soymilk	270	1.5	0.4	0.0	5	120	53	6	36	15.0	50	80	10	6.0	0.000000
178	smoothies	strawberry banana smoothie	Grande Nonfat Milk	290	1.0	0.3	0.0	5	125	58	7	41	16.0	4	100	10	8.0	0.000000
179	smoothies	strawberry banana smoothie	2% Milk	290	2.0	1.0	0.0	5	125	58	7	41	16.0	4	100	10	8.0	0.000000
180	smoothies	strawberry banana smoothie	Soymilk	290	2.0	0.4	0.0	5	120	58	8	40	16.0	2	100	10	8.0	0.000000
229	frappuccino blended crme	strawberries crme (without whipped cream)	Tall Nonfat Milk	170	0.1	0.1	0.0	0	140	39	0	38	3.0	6	6	10	2.0	0.000000
230	frappuccino blended crme	strawberries crme (without whipped cream)	Whole Milk	190	3.0	1.5	0.1	10	140	38	0	37	3.0	4	6	10	2.0	0.000000
232	frappuccino blended crme	strawberries crme (without whipped cream)	Grande Nonfat Milk	230	0.2	0.1	0.0	0	190	53	0	52	4.0	8	6	15	4.0	0.000000
233	frappuccino blended crme	strawberries crme (without whipped cream)	Whole Milk	260	4.0	2.0	0.1	10	190	53	0	52	4.0	6	6	15	4.0	0.000000
235	frappuccino blended crme	strawberries crme (without whipped cream)	Venti Nonfat Milk	310	0.2	0.1	0.0	5	260	70	0	69	6.0	10	8	20	4.0	0.000000
236	frappuccino blended crme	strawberries crme (without whipped cream)	Whole Milk	350	6.0	3.0	0.2	15	260	70	0	68	6.0	8	8	20	4.0	0.000000
# create a new column containing the caffeine per calories of each drink
starDS["caffine_per_calors"] = starDS["caffeine"] / starDS["calories"]
starDS.head()
beverage_category	beverage	beverage_prep	calories	total fat	trans fat	saturated fat	sodium	total carbohydrates	cholesterol	dietary fibre	sugars	protein	vitamin a	vitamin c	calcium	iron	caffeine	caffine_per_calors
0	coffee	brewed coffee	Short	3	0.1	0.0	0.0	0	5	0	0	0	0.3	0	0	0	0.0	175.0	58.333333
1	coffee	brewed coffee	Tall	4	0.1	0.0	0.0	0	10	0	0	0	0.5	0	0	0	0.0	260.0	65.000000
2	coffee	brewed coffee	Grande	5	0.1	0.0	0.0	0	10	0	0	0	1.0	0	0	0	0.0	330.0	66.000000
3	coffee	brewed coffee	Venti	5	0.1	0.0	0.0	0	10	0	0	0	1.0	0	0	2	0.0	410.0	82.000000
4	classic espresso drinks	caff latte	Short Nonfat Milk	70	0.1	0.1	0.0	5	75	10	0	9	6.0	10	0	20	0.0	75.0	1.071429
# what is the average calorie across all items?
starDS["calories"].mean()
193.87190082644628
# how many different categories of beverages are there?
starDS["beverage_category"].nunique()
9
# what is the average # calories for each beverage category?
calsForBev = starDS.groupby("beverage_category")
calsForBev["calories"].mean()
beverage_category
classic espresso drinks             140.172414
coffee                                4.250000
frappuccino blended coffee          276.944444
frappuccino blended crme            233.076923
frappuccino light blended coffee    162.500000
shaken iced beverages               114.444444
signature espresso drinks           250.000000
smoothies                           282.222222
tazo tea drinks                     177.307692
Name: calories, dtype: float64
 
